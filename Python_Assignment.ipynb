{
  "nbformat": 4,
  "nbformat_minor": 0,
  "metadata": {
    "colab": {
      "provenance": [],
      "authorship_tag": "ABX9TyMHIOluZpQQfq5N0ICZdx+2",
      "include_colab_link": true
    },
    "kernelspec": {
      "name": "python3",
      "display_name": "Python 3"
    },
    "language_info": {
      "name": "python"
    }
  },
  "cells": [
    {
      "cell_type": "markdown",
      "metadata": {
        "id": "view-in-github",
        "colab_type": "text"
      },
      "source": [
        "<a href=\"https://colab.research.google.com/github/Rabiya915/Python-Assignment-1/blob/main/Python_Assignment.ipynb\" target=\"_parent\"><img src=\"https://colab.research.google.com/assets/colab-badge.svg\" alt=\"Open In Colab\"/></a>"
      ]
    },
    {
      "cell_type": "markdown",
      "source": [
        "Python Assignment-1"
      ],
      "metadata": {
        "id": "qPo43_ZHM3gW"
      }
    },
    {
      "cell_type": "code",
      "execution_count": null,
      "metadata": {
        "colab": {
          "base_uri": "https://localhost:8080/"
        },
        "id": "oiVgSjnkkgVI",
        "outputId": "08a6c50b-263d-4e79-f47a-0c048e1f362c"
      },
      "outputs": [
        {
          "output_type": "stream",
          "name": "stdout",
          "text": [
            "<class 'str'>\n"
          ]
        }
      ],
      "source": [
        "name = \"Rabiya\"\n",
        "print(type(name))"
      ]
    },
    {
      "cell_type": "code",
      "source": [
        "s = \"PythonIsAmazing\"\n",
        "print(s[0:6])\n",
        "str = s.lower()\n",
        "print(str)\n",
        "print(str.replace(\"amazing\", \"awesome\"))"
      ],
      "metadata": {
        "colab": {
          "base_uri": "https://localhost:8080/"
        },
        "id": "SkBerAjLll9k",
        "outputId": "1e4ce23d-e4b5-4556-bd2b-47443f25f593"
      },
      "execution_count": null,
      "outputs": [
        {
          "output_type": "stream",
          "name": "stdout",
          "text": [
            "Python\n",
            "pythonisamazing\n",
            "pythonisawesome\n"
          ]
        }
      ]
    },
    {
      "cell_type": "code",
      "source": [
        "fruits = [\"apple\", \"banana\", \"cherry\", \"date\"]\n",
        "fruits.append(\"elderberry\")\n",
        "print(fruits)\n",
        "\n",
        "fruits.remove(\"banana\")\n",
        "print(fruits)\n",
        "\n",
        "fruits.reverse()\n",
        "print(fruits)\n"
      ],
      "metadata": {
        "colab": {
          "base_uri": "https://localhost:8080/"
        },
        "id": "G67qHmF0mDx4",
        "outputId": "c9717510-c686-4b63-de5a-2982921e269e"
      },
      "execution_count": null,
      "outputs": [
        {
          "output_type": "stream",
          "name": "stdout",
          "text": [
            "['apple', 'banana', 'cherry', 'date', 'elderberry']\n",
            "['apple', 'cherry', 'date', 'elderberry']\n",
            "['elderberry', 'date', 'cherry', 'apple']\n"
          ]
        }
      ]
    },
    {
      "cell_type": "code",
      "source": [
        "coordinates = (4,5,6)\n",
        "x,y,z = coordinates\n",
        "print(x,y,z)"
      ],
      "metadata": {
        "colab": {
          "base_uri": "https://localhost:8080/"
        },
        "id": "wxIpbn2-LsS8",
        "outputId": "962bb952-d42a-44a0-cd86-1f6a11456988"
      },
      "execution_count": null,
      "outputs": [
        {
          "output_type": "stream",
          "name": "stdout",
          "text": [
            "4 5 6\n"
          ]
        }
      ]
    },
    {
      "cell_type": "code",
      "source": [
        "student = {'name': \"Rabiya\",'age': 21,'course': \"Python Programming\"}\n",
        "student['grade'] = \"A\"\n",
        "print(student)\n",
        "student['age'] = student['age'] + 1\n",
        "print(student)\n",
        "del student['course']\n",
        "print(student)"
      ],
      "metadata": {
        "colab": {
          "base_uri": "https://localhost:8080/"
        },
        "id": "dE3EL_SKLsuB",
        "outputId": "21eecdaa-ac82-4aff-c506-54635a32a7a6"
      },
      "execution_count": null,
      "outputs": [
        {
          "output_type": "stream",
          "name": "stdout",
          "text": [
            "{'name': 'Rabiya', 'age': 21, 'course': 'Python Programming', 'grade': 'A'}\n",
            "{'name': 'Rabiya', 'age': 22, 'course': 'Python Programming', 'grade': 'A'}\n",
            "{'name': 'Rabiya', 'age': 22, 'grade': 'A'}\n"
          ]
        }
      ]
    },
    {
      "cell_type": "code",
      "source": [
        "colors = {'red','green','blue'}\n",
        "colors.add('yellow')\n",
        "print(colors)\n",
        "print('black' in colors)\n",
        "colors.remove('green')\n",
        "print(colors)\n"
      ],
      "metadata": {
        "id": "0SPYEmxXnytS",
        "colab": {
          "base_uri": "https://localhost:8080/"
        },
        "outputId": "62572c4a-01ca-44e7-be74-7fcf06dd2cf4"
      },
      "execution_count": null,
      "outputs": [
        {
          "output_type": "stream",
          "name": "stdout",
          "text": [
            "{'blue', 'green', 'red', 'yellow'}\n",
            "False\n",
            "{'blue', 'red', 'yellow'}\n"
          ]
        }
      ]
    },
    {
      "cell_type": "code",
      "source": [
        "x = tuple(fruits)\n",
        "print(x)\n",
        "s = \"12345\"\n",
        "Y = int(s)\n",
        "Z = float(Y)\n",
        "print(type(Y),type(Z))\n",
        "\n",
        "list_numbers = [\"1\", \"2\", \"3\"]\n",
        "nums = []\n",
        "for i in list_numbers:\n",
        "  nums.append(int(i))\n",
        "print(nums)"
      ],
      "metadata": {
        "colab": {
          "base_uri": "https://localhost:8080/"
        },
        "id": "0rUuUVWcTzt2",
        "outputId": "1e4d8124-e258-48ab-da48-b939f41966cf"
      },
      "execution_count": null,
      "outputs": [
        {
          "output_type": "stream",
          "name": "stdout",
          "text": [
            "('elderberry', 'date', 'cherry', 'apple')\n",
            "<class 'int'> <class 'float'>\n",
            "[1, 2, 3]\n"
          ]
        }
      ]
    },
    {
      "cell_type": "code",
      "source": [
        "def type_counter(lst):\n",
        "  dicti = {}\n",
        "  count = 0\n",
        "  for item in lst:\n",
        "    if type(item) == int():\n",
        "       dict['int'] = count + 1\n",
        "    elif type(item) == float():\n",
        "       dict['float'] = count + 1\n",
        "    elif type(item) == str():\n",
        "       dict['str'] = count + 1\n",
        "    elif type(item) == list():\n",
        "       dict['list'] = count + 1\n",
        "    else:\n",
        "       dict['tuple'] = count + 1\n",
        "  print(dict)\n"
      ],
      "metadata": {
        "id": "fX-XruFoWuYt"
      },
      "execution_count": null,
      "outputs": []
    },
    {
      "cell_type": "code",
      "source": [
        "def type_counter(lst):\n",
        "    dicti = {}\n",
        "    for item in lst:\n",
        "        data_type = type(item).__name__\n",
        "\n",
        "        if data_type in dicti:\n",
        "            dicti[data_type] += 1\n",
        "        else:\n",
        "            dicti[data_type] = 1\n",
        "\n",
        "    return dicti\n",
        "\n",
        "\n"
      ],
      "metadata": {
        "id": "k4kk0ykovE1f"
      },
      "execution_count": null,
      "outputs": []
    },
    {
      "cell_type": "code",
      "source": [
        "lst = [1, \"hello\", 3.14, [1,2,3], (4,5,6)]\n",
        "result = type_counter(lst)\n",
        "print(result)"
      ],
      "metadata": {
        "colab": {
          "base_uri": "https://localhost:8080/"
        },
        "id": "ID0wzGH2errP",
        "outputId": "236ded19-852a-4f6a-92b1-a6425b5db57a"
      },
      "execution_count": null,
      "outputs": [
        {
          "output_type": "stream",
          "name": "stdout",
          "text": [
            "{'int': 1, 'str': 1, 'float': 1, 'list': 1, 'tuple': 1}\n"
          ]
        }
      ]
    },
    {
      "cell_type": "code",
      "source": [],
      "metadata": {
        "id": "T3db-4CnoWUe"
      },
      "execution_count": null,
      "outputs": []
    }
  ]
}